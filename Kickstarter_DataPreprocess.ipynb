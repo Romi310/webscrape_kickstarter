{
 "cells": [
  {
   "cell_type": "code",
   "execution_count": 121,
   "metadata": {
    "collapsed": true
   },
   "outputs": [],
   "source": [
    "import pandas as pd\n"
   ]
  },
  {
   "cell_type": "code",
   "execution_count": 207,
   "metadata": {
    "collapsed": false
   },
   "outputs": [
    {
     "data": {
      "text/html": [
       "<div>\n",
       "<table border=\"1\" class=\"dataframe\">\n",
       "  <thead>\n",
       "    <tr style=\"text-align: right;\">\n",
       "      <th></th>\n",
       "      <th>category</th>\n",
       "      <th>url</th>\n",
       "      <th>subcategory</th>\n",
       "      <th>project_name</th>\n",
       "      <th>creator</th>\n",
       "      <th>location</th>\n",
       "      <th>goal</th>\n",
       "      <th>pledged</th>\n",
       "      <th>backers</th>\n",
       "      <th>funding_start_date</th>\n",
       "      <th>funding_end_date</th>\n",
       "    </tr>\n",
       "  </thead>\n",
       "  <tbody>\n",
       "    <tr>\n",
       "      <th>0</th>\n",
       "      <td>Theater</td>\n",
       "      <td>https://www.kickstarter.com/projects/139200220...</td>\n",
       "      <td>Theater</td>\n",
       "      <td>The Intergalactic Travel Bureau Tour</td>\n",
       "      <td>Olivia Koski</td>\n",
       "      <td>New York, NY</td>\n",
       "      <td>$15,000</td>\n",
       "      <td>$30,777</td>\n",
       "      <td>1,098</td>\n",
       "      <td>Feb 28 2014</td>\n",
       "      <td>Mar 30 2014</td>\n",
       "    </tr>\n",
       "    <tr>\n",
       "      <th>1</th>\n",
       "      <td>Theater</td>\n",
       "      <td>https://www.kickstarter.com/projects/sweetandl...</td>\n",
       "      <td>Immersive</td>\n",
       "      <td>Sweet &amp; Lucky</td>\n",
       "      <td>Off-Center</td>\n",
       "      <td>Denver, CO</td>\n",
       "      <td>$16,000</td>\n",
       "      <td>$40,284</td>\n",
       "      <td>364</td>\n",
       "      <td>Mar 15 2016</td>\n",
       "      <td>Apr 12 2016</td>\n",
       "    </tr>\n",
       "    <tr>\n",
       "      <th>2</th>\n",
       "      <td>Theater</td>\n",
       "      <td>https://www.kickstarter.com/projects/153605820...</td>\n",
       "      <td>Immersive</td>\n",
       "      <td>Houseworld</td>\n",
       "      <td>Andrew Hoepfner</td>\n",
       "      <td>New York, NY</td>\n",
       "      <td>$30,000</td>\n",
       "      <td>$35,062</td>\n",
       "      <td>229</td>\n",
       "      <td>May 20 2015</td>\n",
       "      <td>Jun 19 2015</td>\n",
       "    </tr>\n",
       "    <tr>\n",
       "      <th>3</th>\n",
       "      <td>Theater</td>\n",
       "      <td>https://www.kickstarter.com/projects/manualcin...</td>\n",
       "      <td>Experimental</td>\n",
       "      <td>Mementos Mori</td>\n",
       "      <td>Manual Cinema</td>\n",
       "      <td>Chicago, IL</td>\n",
       "      <td>$10,000</td>\n",
       "      <td>$12,602</td>\n",
       "      <td>175</td>\n",
       "      <td>Jul 21 2014</td>\n",
       "      <td>Aug 20 2014</td>\n",
       "    </tr>\n",
       "    <tr>\n",
       "      <th>4</th>\n",
       "      <td>Theater</td>\n",
       "      <td>https://www.kickstarter.com/projects/169410663...</td>\n",
       "      <td>Theater</td>\n",
       "      <td>ImageS Magazine #13 - The Golden Glory of the ...</td>\n",
       "      <td>Jim Vadeboncoeur Jr</td>\n",
       "      <td>Palo Alto, CA</td>\n",
       "      <td>$8,800</td>\n",
       "      <td>$17,440</td>\n",
       "      <td>249</td>\n",
       "      <td>Apr 29 2014</td>\n",
       "      <td>May 29 2014</td>\n",
       "    </tr>\n",
       "  </tbody>\n",
       "</table>\n",
       "</div>"
      ],
      "text/plain": [
       "  category                                                url   subcategory  \\\n",
       "0  Theater  https://www.kickstarter.com/projects/139200220...       Theater   \n",
       "1  Theater  https://www.kickstarter.com/projects/sweetandl...     Immersive   \n",
       "2  Theater  https://www.kickstarter.com/projects/153605820...     Immersive   \n",
       "3  Theater  https://www.kickstarter.com/projects/manualcin...  Experimental   \n",
       "4  Theater  https://www.kickstarter.com/projects/169410663...       Theater   \n",
       "\n",
       "                                        project_name              creator  \\\n",
       "0               The Intergalactic Travel Bureau Tour         Olivia Koski   \n",
       "1                                      Sweet & Lucky           Off-Center   \n",
       "2                                         Houseworld      Andrew Hoepfner   \n",
       "3                                      Mementos Mori        Manual Cinema   \n",
       "4  ImageS Magazine #13 - The Golden Glory of the ...  Jim Vadeboncoeur Jr   \n",
       "\n",
       "        location      goal   pledged backers funding_start_date  \\\n",
       "0   New York, NY  $15,000   $30,777    1,098        Feb 28 2014   \n",
       "1     Denver, CO  $16,000   $40,284      364        Mar 15 2016   \n",
       "2   New York, NY  $30,000   $35,062      229        May 20 2015   \n",
       "3    Chicago, IL  $10,000   $12,602      175        Jul 21 2014   \n",
       "4  Palo Alto, CA   $8,800   $17,440      249        Apr 29 2014   \n",
       "\n",
       "  funding_end_date  \n",
       "0      Mar 30 2014  \n",
       "1      Apr 12 2016  \n",
       "2      Jun 19 2015  \n",
       "3      Aug 20 2014  \n",
       "4      May 29 2014  "
      ]
     },
     "execution_count": 207,
     "metadata": {},
     "output_type": "execute_result"
    }
   ],
   "source": [
    "kickstarter_raw = pd.read_csv('kickstarter.csv')\n",
    "kickstarter_raw.head()"
   ]
  },
  {
   "cell_type": "code",
   "execution_count": 208,
   "metadata": {
    "collapsed": false
   },
   "outputs": [
    {
     "data": {
      "text/plain": [
       "(1500, 11)"
      ]
     },
     "execution_count": 208,
     "metadata": {},
     "output_type": "execute_result"
    }
   ],
   "source": [
    "kickstarter_raw.shape"
   ]
  },
  {
   "cell_type": "code",
   "execution_count": 124,
   "metadata": {
    "collapsed": false
   },
   "outputs": [
    {
     "data": {
      "text/plain": [
       "dtype('O')"
      ]
     },
     "execution_count": 124,
     "metadata": {},
     "output_type": "execute_result"
    }
   ],
   "source": [
    "kickstarter_raw['funding_start_date'].dtype"
   ]
  },
  {
   "cell_type": "code",
   "execution_count": 125,
   "metadata": {
    "collapsed": false
   },
   "outputs": [
    {
     "data": {
      "text/plain": [
       "'$16,000 '"
      ]
     },
     "execution_count": 125,
     "metadata": {},
     "output_type": "execute_result"
    }
   ],
   "source": [
    "#kickstarter_raw['goal'][1]"
   ]
  },
  {
   "cell_type": "code",
   "execution_count": 4,
   "metadata": {
    "collapsed": false
   },
   "outputs": [],
   "source": [
    "# fstartdate1 = kickstarter_raw['funding_start_date']\n",
    "# fstartdate1 = pd.to_datetime(fstartdate1)"
   ]
  },
  {
   "cell_type": "code",
   "execution_count": 5,
   "metadata": {
    "collapsed": false
   },
   "outputs": [
    {
     "data": {
      "text/plain": [
       "Timestamp('2016-03-15 00:00:00')"
      ]
     },
     "execution_count": 5,
     "metadata": {},
     "output_type": "execute_result"
    }
   ],
   "source": [
    "#fstartdate1[1]"
   ]
  },
  {
   "cell_type": "code",
   "execution_count": 209,
   "metadata": {
    "collapsed": true
   },
   "outputs": [],
   "source": [
    "kickstarter1 = kickstarter_raw"
   ]
  },
  {
   "cell_type": "code",
   "execution_count": 212,
   "metadata": {
    "collapsed": false
   },
   "outputs": [
    {
     "data": {
      "text/html": [
       "<div>\n",
       "<table border=\"1\" class=\"dataframe\">\n",
       "  <thead>\n",
       "    <tr style=\"text-align: right;\">\n",
       "      <th></th>\n",
       "      <th>category</th>\n",
       "      <th>url</th>\n",
       "      <th>subcategory</th>\n",
       "      <th>project_name</th>\n",
       "      <th>creator</th>\n",
       "      <th>location</th>\n",
       "      <th>goal</th>\n",
       "      <th>pledged</th>\n",
       "      <th>backers</th>\n",
       "      <th>funding_start_date</th>\n",
       "      <th>funding_end_date</th>\n",
       "    </tr>\n",
       "  </thead>\n",
       "  <tbody>\n",
       "    <tr>\n",
       "      <th>0</th>\n",
       "      <td>Theater</td>\n",
       "      <td>https://www.kickstarter.com/projects/139200220...</td>\n",
       "      <td>Theater</td>\n",
       "      <td>The Intergalactic Travel Bureau Tour</td>\n",
       "      <td>Olivia Koski</td>\n",
       "      <td>New York, NY</td>\n",
       "      <td>$15,000</td>\n",
       "      <td>$30,777</td>\n",
       "      <td>1,098</td>\n",
       "      <td>2014-02-28</td>\n",
       "      <td>2014-03-30</td>\n",
       "    </tr>\n",
       "    <tr>\n",
       "      <th>1</th>\n",
       "      <td>Theater</td>\n",
       "      <td>https://www.kickstarter.com/projects/sweetandl...</td>\n",
       "      <td>Immersive</td>\n",
       "      <td>Sweet &amp; Lucky</td>\n",
       "      <td>Off-Center</td>\n",
       "      <td>Denver, CO</td>\n",
       "      <td>$16,000</td>\n",
       "      <td>$40,284</td>\n",
       "      <td>364</td>\n",
       "      <td>2016-03-15</td>\n",
       "      <td>2016-04-12</td>\n",
       "    </tr>\n",
       "    <tr>\n",
       "      <th>2</th>\n",
       "      <td>Theater</td>\n",
       "      <td>https://www.kickstarter.com/projects/153605820...</td>\n",
       "      <td>Immersive</td>\n",
       "      <td>Houseworld</td>\n",
       "      <td>Andrew Hoepfner</td>\n",
       "      <td>New York, NY</td>\n",
       "      <td>$30,000</td>\n",
       "      <td>$35,062</td>\n",
       "      <td>229</td>\n",
       "      <td>2015-05-20</td>\n",
       "      <td>2015-06-19</td>\n",
       "    </tr>\n",
       "    <tr>\n",
       "      <th>3</th>\n",
       "      <td>Theater</td>\n",
       "      <td>https://www.kickstarter.com/projects/manualcin...</td>\n",
       "      <td>Experimental</td>\n",
       "      <td>Mementos Mori</td>\n",
       "      <td>Manual Cinema</td>\n",
       "      <td>Chicago, IL</td>\n",
       "      <td>$10,000</td>\n",
       "      <td>$12,602</td>\n",
       "      <td>175</td>\n",
       "      <td>2014-07-21</td>\n",
       "      <td>2014-08-20</td>\n",
       "    </tr>\n",
       "    <tr>\n",
       "      <th>4</th>\n",
       "      <td>Theater</td>\n",
       "      <td>https://www.kickstarter.com/projects/169410663...</td>\n",
       "      <td>Theater</td>\n",
       "      <td>ImageS Magazine #13 - The Golden Glory of the ...</td>\n",
       "      <td>Jim Vadeboncoeur Jr</td>\n",
       "      <td>Palo Alto, CA</td>\n",
       "      <td>$8,800</td>\n",
       "      <td>$17,440</td>\n",
       "      <td>249</td>\n",
       "      <td>2014-04-29</td>\n",
       "      <td>2014-05-29</td>\n",
       "    </tr>\n",
       "  </tbody>\n",
       "</table>\n",
       "</div>"
      ],
      "text/plain": [
       "  category                                                url   subcategory  \\\n",
       "0  Theater  https://www.kickstarter.com/projects/139200220...       Theater   \n",
       "1  Theater  https://www.kickstarter.com/projects/sweetandl...     Immersive   \n",
       "2  Theater  https://www.kickstarter.com/projects/153605820...     Immersive   \n",
       "3  Theater  https://www.kickstarter.com/projects/manualcin...  Experimental   \n",
       "4  Theater  https://www.kickstarter.com/projects/169410663...       Theater   \n",
       "\n",
       "                                        project_name              creator  \\\n",
       "0               The Intergalactic Travel Bureau Tour         Olivia Koski   \n",
       "1                                      Sweet & Lucky           Off-Center   \n",
       "2                                         Houseworld      Andrew Hoepfner   \n",
       "3                                      Mementos Mori        Manual Cinema   \n",
       "4  ImageS Magazine #13 - The Golden Glory of the ...  Jim Vadeboncoeur Jr   \n",
       "\n",
       "        location      goal   pledged backers funding_start_date  \\\n",
       "0   New York, NY  $15,000   $30,777    1,098         2014-02-28   \n",
       "1     Denver, CO  $16,000   $40,284      364         2016-03-15   \n",
       "2   New York, NY  $30,000   $35,062      229         2015-05-20   \n",
       "3    Chicago, IL  $10,000   $12,602      175         2014-07-21   \n",
       "4  Palo Alto, CA   $8,800   $17,440      249         2014-04-29   \n",
       "\n",
       "  funding_end_date  \n",
       "0       2014-03-30  \n",
       "1       2016-04-12  \n",
       "2       2015-06-19  \n",
       "3       2014-08-20  \n",
       "4       2014-05-29  "
      ]
     },
     "execution_count": 212,
     "metadata": {},
     "output_type": "execute_result"
    }
   ],
   "source": [
    "kickstarter1.head()"
   ]
  },
  {
   "cell_type": "code",
   "execution_count": 211,
   "metadata": {
    "collapsed": false
   },
   "outputs": [],
   "source": [
    "# Converting funding_start_date and funding_end_date columns to datetime(Timestamp) fields\n",
    "\n",
    "kickstarter1['funding_start_date'] = pd.to_datetime(kickstarter1['funding_start_date'])\n",
    "kickstarter1['funding_end_date'] = pd.to_datetime(kickstarter1['funding_end_date'])\n",
    "\n"
   ]
  },
  {
   "cell_type": "code",
   "execution_count": 213,
   "metadata": {
    "collapsed": false
   },
   "outputs": [],
   "source": [
    "# Converting 'goal' and 'pledged' columns to numeric\n",
    "\n",
    "# First remove the commas\n",
    "\n",
    "kickstarter1['goal'] = kickstarter1['goal'].replace(',', '', regex = True) \n",
    "kickstarter1['pledged'] = kickstarter1['pledged'].replace(',', '', regex = True)\n",
    "\n",
    "\n",
    "# The below: error in indexing scalar variable; not sure how to do at the moment!\n",
    "# for i in range(0, kickstarter1.shape[0]):\n",
    "#     if kickstarter1['goal'][i][0] == '$':  \n",
    "#         kickstarter1['goal'] = kickstarter1['goal'].replace('\\$', '', regex = True)\n",
    "#     else:\n",
    "#         # for values in £, remove the £ sign (first two unicode chars) and convert to $ value (multiply by exchange rate)\n",
    "#         kickstarter1['goal'] = int(kickstarter1['goal'][i][2:]) * 1.30 \n",
    "        "
   ]
  },
  {
   "cell_type": "code",
   "execution_count": 215,
   "metadata": {
    "collapsed": false
   },
   "outputs": [
    {
     "data": {
      "text/html": [
       "<div>\n",
       "<table border=\"1\" class=\"dataframe\">\n",
       "  <thead>\n",
       "    <tr style=\"text-align: right;\">\n",
       "      <th></th>\n",
       "      <th>category</th>\n",
       "      <th>url</th>\n",
       "      <th>subcategory</th>\n",
       "      <th>project_name</th>\n",
       "      <th>creator</th>\n",
       "      <th>location</th>\n",
       "      <th>goal</th>\n",
       "      <th>pledged</th>\n",
       "      <th>backers</th>\n",
       "      <th>funding_start_date</th>\n",
       "      <th>funding_end_date</th>\n",
       "    </tr>\n",
       "  </thead>\n",
       "  <tbody>\n",
       "    <tr>\n",
       "      <th>555</th>\n",
       "      <td>Fashion</td>\n",
       "      <td>https://www.kickstarter.com/projects/165536831...</td>\n",
       "      <td>Apparel</td>\n",
       "      <td>The Ultimate Stylish and Fully Functional Comm...</td>\n",
       "      <td>Sweet Clothing Distribution</td>\n",
       "      <td>Portland, OR</td>\n",
       "      <td>CA$ 30000</td>\n",
       "      <td>CA$ 53426</td>\n",
       "      <td>314</td>\n",
       "      <td>2015-12-29</td>\n",
       "      <td>2016-02-08</td>\n",
       "    </tr>\n",
       "    <tr>\n",
       "      <th>1186</th>\n",
       "      <td>Art</td>\n",
       "      <td>https://www.kickstarter.com/projects/sewyourso...</td>\n",
       "      <td>Public Art</td>\n",
       "      <td>The New York Fabric Convenience Store-An Art I...</td>\n",
       "      <td>Lucy Sparrow</td>\n",
       "      <td>Manhattan, NY</td>\n",
       "      <td>�40000</td>\n",
       "      <td>�40519</td>\n",
       "      <td>532</td>\n",
       "      <td>2016-07-29</td>\n",
       "      <td>2016-08-29</td>\n",
       "    </tr>\n",
       "  </tbody>\n",
       "</table>\n",
       "</div>"
      ],
      "text/plain": [
       "     category                                                url subcategory  \\\n",
       "555   Fashion  https://www.kickstarter.com/projects/165536831...     Apparel   \n",
       "1186      Art  https://www.kickstarter.com/projects/sewyourso...  Public Art   \n",
       "\n",
       "                                           project_name  \\\n",
       "555   The Ultimate Stylish and Fully Functional Comm...   \n",
       "1186  The New York Fabric Convenience Store-An Art I...   \n",
       "\n",
       "                          creator       location       goal    pledged  \\\n",
       "555   Sweet Clothing Distribution   Portland, OR  CA$ 30000  CA$ 53426   \n",
       "1186                 Lucy Sparrow  Manhattan, NY     �40000     �40519   \n",
       "\n",
       "     backers funding_start_date funding_end_date  \n",
       "555      314         2015-12-29       2016-02-08  \n",
       "1186     532         2016-07-29       2016-08-29  "
      ]
     },
     "execution_count": 215,
     "metadata": {},
     "output_type": "execute_result"
    }
   ],
   "source": [
    "# Converting 'goal' and 'pledged' columns to numeric contd..\n",
    "# Check for observations where goal/pledged values are not in USD.\n",
    "\n",
    "kickstarter1.loc[kickstarter1['goal'].str[0] != '$']\n",
    "\n",
    "# two rows (index - 555 and 1186): one in CA$ and another in £ "
   ]
  },
  {
   "cell_type": "code",
   "execution_count": 217,
   "metadata": {
    "collapsed": false
   },
   "outputs": [
    {
     "name": "stderr",
     "output_type": "stream",
     "text": [
      "/Users/romi/anaconda/lib/python2.7/site-packages/ipykernel/__main__.py:6: SettingWithCopyWarning: \n",
      "A value is trying to be set on a copy of a slice from a DataFrame\n",
      "\n",
      "See the caveats in the documentation: http://pandas.pydata.org/pandas-docs/stable/indexing.html#indexing-view-versus-copy\n"
     ]
    }
   ],
   "source": [
    "# Converting 'goal' and 'pledged' columns to numeric contd..\n",
    "# Strip the currency symbol for both the rows and convert the values to USD (by multiplying with exchange rate)\n",
    "\n",
    "#len(kickstarter1['goal'][555]) # 9; retain only numbers\n",
    "kickstarter1['goal'][555] = int(kickstarter1['goal'][555][4:]) * 0.73 # CAD to USD\n",
    "\n",
    "\n",
    "\n",
    "\n",
    "\n"
   ]
  },
  {
   "cell_type": "code",
   "execution_count": 219,
   "metadata": {
    "collapsed": false
   },
   "outputs": [
    {
     "name": "stderr",
     "output_type": "stream",
     "text": [
      "/Users/romi/anaconda/lib/python2.7/site-packages/ipykernel/__main__.py:2: SettingWithCopyWarning: \n",
      "A value is trying to be set on a copy of a slice from a DataFrame\n",
      "\n",
      "See the caveats in the documentation: http://pandas.pydata.org/pandas-docs/stable/indexing.html#indexing-view-versus-copy\n",
      "  from ipykernel import kernelapp as app\n"
     ]
    }
   ],
   "source": [
    "#len(kickstarter1['goal'][1186]) # 7, retain only the number\n",
    "kickstarter1['goal'][1186] = int(kickstarter1['goal'][1186][2:]) * 1.30 # Pound to USD\n"
   ]
  },
  {
   "cell_type": "code",
   "execution_count": 203,
   "metadata": {
    "collapsed": false
   },
   "outputs": [
    {
     "name": "stdout",
     "output_type": "stream",
     "text": [
      "21900.0\n",
      "52000.0\n"
     ]
    }
   ],
   "source": [
    "print kickstarter1['goal'][555]\n",
    "print kickstarter1['goal'][1186]\n"
   ]
  },
  {
   "cell_type": "code",
   "execution_count": 221,
   "metadata": {
    "collapsed": false,
    "scrolled": true
   },
   "outputs": [
    {
     "name": "stderr",
     "output_type": "stream",
     "text": [
      "/Users/romi/anaconda/lib/python2.7/site-packages/ipykernel/__main__.py:3: SettingWithCopyWarning: \n",
      "A value is trying to be set on a copy of a slice from a DataFrame\n",
      "\n",
      "See the caveats in the documentation: http://pandas.pydata.org/pandas-docs/stable/indexing.html#indexing-view-versus-copy\n",
      "  app.launch_new_instance()\n",
      "/Users/romi/anaconda/lib/python2.7/site-packages/ipykernel/__main__.py:5: SettingWithCopyWarning: \n",
      "A value is trying to be set on a copy of a slice from a DataFrame\n",
      "\n",
      "See the caveats in the documentation: http://pandas.pydata.org/pandas-docs/stable/indexing.html#indexing-view-versus-copy\n"
     ]
    }
   ],
   "source": [
    "# similary, convert the 'pledged' column values for the above two rows\n",
    "\n",
    "kickstarter1['pledged'][555] = int(kickstarter1['pledged'][555][4:]) * 0.73 # CAD to USD\n",
    "\n",
    "kickstarter1['pledged'][1186] = int(kickstarter1['pledged'][1186][2:]) * 1.30 # Pound to USD\n"
   ]
  },
  {
   "cell_type": "code",
   "execution_count": 222,
   "metadata": {
    "collapsed": false,
    "scrolled": true
   },
   "outputs": [
    {
     "name": "stdout",
     "output_type": "stream",
     "text": [
      "39000.98\n",
      "52674.7\n"
     ]
    }
   ],
   "source": [
    "print kickstarter1['pledged'][555]\n",
    "print kickstarter1['pledged'][1186]"
   ]
  },
  {
   "cell_type": "code",
   "execution_count": 158,
   "metadata": {
    "collapsed": false
   },
   "outputs": [
    {
     "data": {
      "text/plain": [
       "1500"
      ]
     },
     "execution_count": 158,
     "metadata": {},
     "output_type": "execute_result"
    }
   ],
   "source": [
    "kickstarter1.shape[0]"
   ]
  },
  {
   "cell_type": "code",
   "execution_count": 223,
   "metadata": {
    "collapsed": false
   },
   "outputs": [
    {
     "data": {
      "text/plain": [
       "dtype('O')"
      ]
     },
     "execution_count": 223,
     "metadata": {},
     "output_type": "execute_result"
    }
   ],
   "source": [
    "kickstarter1['goal'].dtype"
   ]
  },
  {
   "cell_type": "code",
   "execution_count": 224,
   "metadata": {
    "collapsed": false
   },
   "outputs": [],
   "source": [
    "# Converting 'goal' and 'pledged' columns to numeric contd..\n",
    "\n",
    "kickstarter1['goal'] = kickstarter1['goal'].replace('\\$', '', regex = True)\n",
    "\n",
    "kickstarter1['goal'] = pd.to_numeric(kickstarter1['goal'])\n",
    "\n",
    "kickstarter1['pledged'] = kickstarter1['pledged'].replace('\\$', '', regex = True)\n",
    "\n",
    "kickstarter1['pledged'] = pd.to_numeric(kickstarter1['pledged'])\n",
    "\n"
   ]
  },
  {
   "cell_type": "code",
   "execution_count": 225,
   "metadata": {
    "collapsed": false
   },
   "outputs": [
    {
     "name": "stdout",
     "output_type": "stream",
     "text": [
      "float64\n",
      "float64\n"
     ]
    }
   ],
   "source": [
    "print kickstarter1['goal'].dtype\n",
    "print kickstarter1['pledged'].dtype"
   ]
  },
  {
   "cell_type": "code",
   "execution_count": 229,
   "metadata": {
    "collapsed": false
   },
   "outputs": [
    {
     "name": "stdout",
     "output_type": "stream",
     "text": [
      "int64\n"
     ]
    }
   ],
   "source": [
    "# Convert 'backers' to numeric\n",
    "\n",
    "kickstarter1['backers'] = kickstarter1['backers'].replace(',', '', regex = True)\n",
    "kickstarter1['backers'] = kickstarter1['backers'].astype(int)\n",
    "print kickstarter1['backers'].dtype\n"
   ]
  },
  {
   "cell_type": "code",
   "execution_count": 250,
   "metadata": {
    "collapsed": false
   },
   "outputs": [
    {
     "data": {
      "text/html": [
       "<div>\n",
       "<table border=\"1\" class=\"dataframe\">\n",
       "  <thead>\n",
       "    <tr style=\"text-align: right;\">\n",
       "      <th></th>\n",
       "      <th>category</th>\n",
       "      <th>url</th>\n",
       "      <th>subcategory</th>\n",
       "      <th>project_name</th>\n",
       "      <th>creator</th>\n",
       "      <th>location</th>\n",
       "      <th>goal</th>\n",
       "      <th>pledged</th>\n",
       "      <th>backers</th>\n",
       "      <th>funding_start_date</th>\n",
       "      <th>funding_end_date</th>\n",
       "      <th>funding_pc</th>\n",
       "      <th>funding_duration</th>\n",
       "      <th>location_state</th>\n",
       "      <th>location_city</th>\n",
       "    </tr>\n",
       "  </thead>\n",
       "  <tbody>\n",
       "    <tr>\n",
       "      <th>0</th>\n",
       "      <td>Theater</td>\n",
       "      <td>https://www.kickstarter.com/projects/139200220...</td>\n",
       "      <td>Theater</td>\n",
       "      <td>The Intergalactic Travel Bureau Tour</td>\n",
       "      <td>Olivia Koski</td>\n",
       "      <td>New York, NY</td>\n",
       "      <td>15000.0</td>\n",
       "      <td>30777.0</td>\n",
       "      <td>1098</td>\n",
       "      <td>2014-02-28</td>\n",
       "      <td>2014-03-30</td>\n",
       "      <td>2.051800</td>\n",
       "      <td>30 days</td>\n",
       "      <td>NY</td>\n",
       "      <td>New York</td>\n",
       "    </tr>\n",
       "    <tr>\n",
       "      <th>1</th>\n",
       "      <td>Theater</td>\n",
       "      <td>https://www.kickstarter.com/projects/sweetandl...</td>\n",
       "      <td>Immersive</td>\n",
       "      <td>Sweet &amp; Lucky</td>\n",
       "      <td>Off-Center</td>\n",
       "      <td>Denver, CO</td>\n",
       "      <td>16000.0</td>\n",
       "      <td>40284.0</td>\n",
       "      <td>364</td>\n",
       "      <td>2016-03-15</td>\n",
       "      <td>2016-04-12</td>\n",
       "      <td>2.517750</td>\n",
       "      <td>28 days</td>\n",
       "      <td>CO</td>\n",
       "      <td>Denver</td>\n",
       "    </tr>\n",
       "    <tr>\n",
       "      <th>2</th>\n",
       "      <td>Theater</td>\n",
       "      <td>https://www.kickstarter.com/projects/153605820...</td>\n",
       "      <td>Immersive</td>\n",
       "      <td>Houseworld</td>\n",
       "      <td>Andrew Hoepfner</td>\n",
       "      <td>New York, NY</td>\n",
       "      <td>30000.0</td>\n",
       "      <td>35062.0</td>\n",
       "      <td>229</td>\n",
       "      <td>2015-05-20</td>\n",
       "      <td>2015-06-19</td>\n",
       "      <td>1.168733</td>\n",
       "      <td>30 days</td>\n",
       "      <td>NY</td>\n",
       "      <td>New York</td>\n",
       "    </tr>\n",
       "    <tr>\n",
       "      <th>3</th>\n",
       "      <td>Theater</td>\n",
       "      <td>https://www.kickstarter.com/projects/manualcin...</td>\n",
       "      <td>Experimental</td>\n",
       "      <td>Mementos Mori</td>\n",
       "      <td>Manual Cinema</td>\n",
       "      <td>Chicago, IL</td>\n",
       "      <td>10000.0</td>\n",
       "      <td>12602.0</td>\n",
       "      <td>175</td>\n",
       "      <td>2014-07-21</td>\n",
       "      <td>2014-08-20</td>\n",
       "      <td>1.260200</td>\n",
       "      <td>30 days</td>\n",
       "      <td>IL</td>\n",
       "      <td>Chicago</td>\n",
       "    </tr>\n",
       "    <tr>\n",
       "      <th>4</th>\n",
       "      <td>Theater</td>\n",
       "      <td>https://www.kickstarter.com/projects/169410663...</td>\n",
       "      <td>Theater</td>\n",
       "      <td>ImageS Magazine #13 - The Golden Glory of the ...</td>\n",
       "      <td>Jim Vadeboncoeur Jr</td>\n",
       "      <td>Palo Alto, CA</td>\n",
       "      <td>8800.0</td>\n",
       "      <td>17440.0</td>\n",
       "      <td>249</td>\n",
       "      <td>2014-04-29</td>\n",
       "      <td>2014-05-29</td>\n",
       "      <td>1.981818</td>\n",
       "      <td>30 days</td>\n",
       "      <td>CA</td>\n",
       "      <td>Palo Alto</td>\n",
       "    </tr>\n",
       "  </tbody>\n",
       "</table>\n",
       "</div>"
      ],
      "text/plain": [
       "  category                                                url   subcategory  \\\n",
       "0  Theater  https://www.kickstarter.com/projects/139200220...       Theater   \n",
       "1  Theater  https://www.kickstarter.com/projects/sweetandl...     Immersive   \n",
       "2  Theater  https://www.kickstarter.com/projects/153605820...     Immersive   \n",
       "3  Theater  https://www.kickstarter.com/projects/manualcin...  Experimental   \n",
       "4  Theater  https://www.kickstarter.com/projects/169410663...       Theater   \n",
       "\n",
       "                                        project_name              creator  \\\n",
       "0               The Intergalactic Travel Bureau Tour         Olivia Koski   \n",
       "1                                      Sweet & Lucky           Off-Center   \n",
       "2                                         Houseworld      Andrew Hoepfner   \n",
       "3                                      Mementos Mori        Manual Cinema   \n",
       "4  ImageS Magazine #13 - The Golden Glory of the ...  Jim Vadeboncoeur Jr   \n",
       "\n",
       "        location     goal  pledged  backers funding_start_date  \\\n",
       "0   New York, NY  15000.0  30777.0     1098         2014-02-28   \n",
       "1     Denver, CO  16000.0  40284.0      364         2016-03-15   \n",
       "2   New York, NY  30000.0  35062.0      229         2015-05-20   \n",
       "3    Chicago, IL  10000.0  12602.0      175         2014-07-21   \n",
       "4  Palo Alto, CA   8800.0  17440.0      249         2014-04-29   \n",
       "\n",
       "  funding_end_date  funding_pc  funding_duration location_state location_city  \n",
       "0       2014-03-30    2.051800           30 days             NY      New York  \n",
       "1       2016-04-12    2.517750           28 days             CO        Denver  \n",
       "2       2015-06-19    1.168733           30 days             NY      New York  \n",
       "3       2014-08-20    1.260200           30 days             IL       Chicago  \n",
       "4       2014-05-29    1.981818           30 days             CA     Palo Alto  "
      ]
     },
     "execution_count": 250,
     "metadata": {},
     "output_type": "execute_result"
    }
   ],
   "source": [
    "kickstarter1.head()"
   ]
  },
  {
   "cell_type": "code",
   "execution_count": 234,
   "metadata": {
    "collapsed": true
   },
   "outputs": [],
   "source": [
    "# Mutate adding two columns : 'funding_pc' and 'funding_duration'\n",
    "\n",
    "kickstarter1['funding_pc'] = kickstarter1['pledged']/kickstarter1['goal']\n",
    "\n",
    "kickstarter1['funding_duration'] = kickstarter1['funding_end_date'] - kickstarter1['funding_start_date']\n",
    "\n",
    "\n"
   ]
  },
  {
   "cell_type": "code",
   "execution_count": 206,
   "metadata": {
    "collapsed": false
   },
   "outputs": [
    {
     "data": {
      "text/plain": [
       "1186    532.0\n",
       "Name: backers, dtype: float64"
      ]
     },
     "execution_count": 206,
     "metadata": {},
     "output_type": "execute_result"
    }
   ],
   "source": [
    "kickstarter1.loc[kickstarter1['creator'] == 'Lucy Sparrow']['backers']"
   ]
  },
  {
   "cell_type": "code",
   "execution_count": 247,
   "metadata": {
    "collapsed": false
   },
   "outputs": [
    {
     "data": {
      "text/plain": [
       "0    NY\n",
       "1    CO\n",
       "2    NY\n",
       "3    IL\n",
       "4    CA\n",
       "Name: location, dtype: object"
      ]
     },
     "execution_count": 247,
     "metadata": {},
     "output_type": "execute_result"
    }
   ],
   "source": [
    "st = kickstarter1['location'].head().astype(str).str[-2:]\n",
    "st"
   ]
  },
  {
   "cell_type": "code",
   "execution_count": 248,
   "metadata": {
    "collapsed": false
   },
   "outputs": [
    {
     "data": {
      "text/plain": [
       "0     New York\n",
       "1       Denver\n",
       "2     New York\n",
       "3      Chicago\n",
       "4    Palo Alto\n",
       "Name: location, dtype: object"
      ]
     },
     "execution_count": 248,
     "metadata": {},
     "output_type": "execute_result"
    }
   ],
   "source": [
    "cty = kickstarter1['location'].head().astype(str).str[:-4]\n",
    "cty\n",
    "\n"
   ]
  },
  {
   "cell_type": "code",
   "execution_count": 249,
   "metadata": {
    "collapsed": true
   },
   "outputs": [],
   "source": [
    "# Mutate to add location state and city separately\n",
    "kickstarter1['location_state'] = kickstarter1['location'].astype(str).str[-2:]\n",
    "\n",
    "kickstarter1['location_city'] = kickstarter1['location'].astype(str).str[:-4]\n",
    "\n"
   ]
  },
  {
   "cell_type": "code",
   "execution_count": 251,
   "metadata": {
    "collapsed": true
   },
   "outputs": [],
   "source": [
    "kickstarter1.to_csv('kickstarter_magic_tr.csv', sep = ',')"
   ]
  },
  {
   "cell_type": "code",
   "execution_count": null,
   "metadata": {
    "collapsed": true
   },
   "outputs": [],
   "source": []
  }
 ],
 "metadata": {
  "anaconda-cloud": {},
  "kernelspec": {
   "display_name": "Python [default]",
   "language": "python",
   "name": "python2"
  },
  "language_info": {
   "codemirror_mode": {
    "name": "ipython",
    "version": 2
   },
   "file_extension": ".py",
   "mimetype": "text/x-python",
   "name": "python",
   "nbconvert_exporter": "python",
   "pygments_lexer": "ipython2",
   "version": "2.7.12"
  }
 },
 "nbformat": 4,
 "nbformat_minor": 1
}
